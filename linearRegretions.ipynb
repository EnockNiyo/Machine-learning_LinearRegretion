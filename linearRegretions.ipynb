#importing Libraries to be used 
import pandas as pd
import numpy as np
import  matplotlib.pyplot as plt
import seaborn as  sns
#read csv file called insurance.csv with the help of pandas library (check the file is available on this repository  
df=pd.read_csv('insurance.csv')
print(df.shape)
print(df.head)
print(df.info())
print('Null values are : ',df.isnull())
print('Null values are : ',df.isnull().sum())
print('Number of deplicates frequency : ',df.duplicated().sum())
categorical=[var for var in df.columns if df[var].dtype=='O']
print('Non numerical are : ',categorical)
numerical=[vr for vr in df.columns if df[vr].dtype!='O']
print('Numerical Features are : ',numerical)
cat_columns=['sex','smoker','region']

df_encoded=pd.get_dummies(data=df,columns=cat_columns)
corr1=df_encoded.corr()
sns.heatmap(corr1,cmap='viridis',annot=True,cbar=True)
plt.show()

# using scatterplot
sns.scatterplot(data=df,x='sex',y='charges')
plt.show()

# boxplot
sns.boxplot(data=df,x='sex',y='charges')
plt.show()

#using violinplot

sns.violinplot(data=df,x='sex',y='charges')
plt.show()

#using histogram

sns.histplot(df['charges'],bins=30,color='r')
charges_nor=np.log10(df['charges'])
f=plt.figure(figsize=(16,5))
ax=f.add_subplot(121)
sns.histplot(df['charges'],bins=30,color='r',ax=ax)
ax=f.add_subplot(122)
df['charges']=np.log10(df['charges'])
sns.histplot(charges_nor,bins=30,color='b')
plt.show()
x=df.drop('charges',ax=1)
y=df['charges']
print(x.head())
print(x.shape)
print(x.head())

#importing liearnRegration Algorithm 
from sklearn.linear_model import LinearRegression
from sklearn.model_selection import train_test_split
from sklearn.metrics import mean_absolute_error
x_train,x_test,y_train,y_test=train_test_split(x,y,test_size=0.3,random_state=1)
linreg=LinearRegression()
linreg.fit(x_train,y_train)
y_pred=linreg.predict(x_test)
sr=mean_absolute_error(y_pred,y_test)

print('The R Square is to: ',sr)



